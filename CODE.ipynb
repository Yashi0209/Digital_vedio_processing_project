{
  "cells": [
    {
      "cell_type": "markdown",
      "metadata": {
        "id": "Czlr7j7-t1Fw"
      },
      "source": [
        "# Installation\n"
      ]
    },
    {
      "cell_type": "code",
      "execution_count": null,
      "metadata": {
        "colab": {
          "base_uri": "https://localhost:8080/"
        },
        "id": "zXm_whLxt-2X",
        "outputId": "d278a101-199b-4c0a-f423-1a40fbfc8816"
      },
      "outputs": [
        {
          "name": "stdout",
          "output_type": "stream",
          "text": [
            "Collecting git+https://github.com/sberbank-ai/Real-ESRGAN.git\n",
            "  Cloning https://github.com/sberbank-ai/Real-ESRGAN.git to /tmp/pip-req-build-bfz14z_0\n",
            "  Running command git clone --filter=blob:none --quiet https://github.com/sberbank-ai/Real-ESRGAN.git /tmp/pip-req-build-bfz14z_0\n",
            "  Resolved https://github.com/sberbank-ai/Real-ESRGAN.git to commit 362a0316878f41dbdfbb23657b450c3353de5acf\n",
            "  Preparing metadata (setup.py) ... \u001b[?25l\u001b[?25hdone\n",
            "Requirement already satisfied: numpy in /usr/local/lib/python3.10/dist-packages (from RealESRGAN==1.0) (1.23.5)\n",
            "Requirement already satisfied: opencv-python in /usr/local/lib/python3.10/dist-packages (from RealESRGAN==1.0) (4.8.0.76)\n",
            "Requirement already satisfied: Pillow in /usr/local/lib/python3.10/dist-packages (from RealESRGAN==1.0) (9.4.0)\n",
            "Requirement already satisfied: torch>=1.7 in /usr/local/lib/python3.10/dist-packages (from RealESRGAN==1.0) (2.1.0+cu118)\n",
            "Requirement already satisfied: torchvision>=0.8.0 in /usr/local/lib/python3.10/dist-packages (from RealESRGAN==1.0) (0.16.0+cu118)\n",
            "Requirement already satisfied: tqdm in /usr/local/lib/python3.10/dist-packages (from RealESRGAN==1.0) (4.66.1)\n",
            "Requirement already satisfied: huggingface-hub in /usr/local/lib/python3.10/dist-packages (from RealESRGAN==1.0) (0.19.4)\n",
            "Requirement already satisfied: filelock in /usr/local/lib/python3.10/dist-packages (from torch>=1.7->RealESRGAN==1.0) (3.13.1)\n",
            "Requirement already satisfied: typing-extensions in /usr/local/lib/python3.10/dist-packages (from torch>=1.7->RealESRGAN==1.0) (4.5.0)\n",
            "Requirement already satisfied: sympy in /usr/local/lib/python3.10/dist-packages (from torch>=1.7->RealESRGAN==1.0) (1.12)\n",
            "Requirement already satisfied: networkx in /usr/local/lib/python3.10/dist-packages (from torch>=1.7->RealESRGAN==1.0) (3.2.1)\n",
            "Requirement already satisfied: jinja2 in /usr/local/lib/python3.10/dist-packages (from torch>=1.7->RealESRGAN==1.0) (3.1.2)\n",
            "Requirement already satisfied: fsspec in /usr/local/lib/python3.10/dist-packages (from torch>=1.7->RealESRGAN==1.0) (2023.6.0)\n",
            "Requirement already satisfied: triton==2.1.0 in /usr/local/lib/python3.10/dist-packages (from torch>=1.7->RealESRGAN==1.0) (2.1.0)\n",
            "Requirement already satisfied: requests in /usr/local/lib/python3.10/dist-packages (from torchvision>=0.8.0->RealESRGAN==1.0) (2.31.0)\n",
            "Requirement already satisfied: pyyaml>=5.1 in /usr/local/lib/python3.10/dist-packages (from huggingface-hub->RealESRGAN==1.0) (6.0.1)\n",
            "Requirement already satisfied: packaging>=20.9 in /usr/local/lib/python3.10/dist-packages (from huggingface-hub->RealESRGAN==1.0) (23.2)\n",
            "Requirement already satisfied: MarkupSafe>=2.0 in /usr/local/lib/python3.10/dist-packages (from jinja2->torch>=1.7->RealESRGAN==1.0) (2.1.3)\n",
            "Requirement already satisfied: charset-normalizer<4,>=2 in /usr/local/lib/python3.10/dist-packages (from requests->torchvision>=0.8.0->RealESRGAN==1.0) (3.3.2)\n",
            "Requirement already satisfied: idna<4,>=2.5 in /usr/local/lib/python3.10/dist-packages (from requests->torchvision>=0.8.0->RealESRGAN==1.0) (3.6)\n",
            "Requirement already satisfied: urllib3<3,>=1.21.1 in /usr/local/lib/python3.10/dist-packages (from requests->torchvision>=0.8.0->RealESRGAN==1.0) (2.0.7)\n",
            "Requirement already satisfied: certifi>=2017.4.17 in /usr/local/lib/python3.10/dist-packages (from requests->torchvision>=0.8.0->RealESRGAN==1.0) (2023.11.17)\n",
            "Requirement already satisfied: mpmath>=0.19 in /usr/local/lib/python3.10/dist-packages (from sympy->torch>=1.7->RealESRGAN==1.0) (1.3.0)\n"
          ]
        }
      ],
      "source": [
        "!pip install git+https://github.com/sberbank-ai/Real-ESRGAN.git"
      ]
    },
    {
      "cell_type": "code",
      "execution_count": null,
      "metadata": {
        "id": "YSOfSG1xT6IT"
      },
      "outputs": [],
      "source": [
        "import os\n",
        "import cv2\n",
        "import torch\n",
        "import shutil\n",
        "import datetime\n",
        "import numpy as np\n",
        "from math import log10, sqrt\n",
        "from google.colab import files\n",
        "from RealESRGAN import RealESRGAN\n",
        "from matplotlib import pyplot as plt"
      ]
    },
    {
      "cell_type": "code",
      "execution_count": null,
      "metadata": {
        "colab": {
          "base_uri": "https://localhost:8080/"
        },
        "id": "PQyuoWgZseHG",
        "outputId": "a2f4ece2-acc7-4e3b-fab1-32225afd5808"
      },
      "outputs": [
        {
          "name": "stdout",
          "output_type": "stream",
          "text": [
            "device: cuda\n"
          ]
        }
      ],
      "source": [
        "device = torch.device('cuda' if torch.cuda.is_available() else 'cpu')\n",
        "print('device:', device)\n",
        "\n",
        "model_scale2 = \"2\" #@param [\"2\", \"4\", \"8\"] {allow-input: false}\n",
        "model_scale4 = \"4\"\n",
        "model_scale8 = \"8\"\n",
        "\n",
        "model2 = RealESRGAN(device, scale=int(model_scale2))\n",
        "model2.load_weights(f'weights/RealESRGAN_x{model_scale2}.pth')\n",
        "\n",
        "model4 = RealESRGAN(device, scale=int(model_scale4))\n",
        "model4.load_weights(f'weights/RealESRGAN_x{model_scale4}.pth')\n",
        "\n",
        "model8 = RealESRGAN(device, scale=int(model_scale8))\n",
        "model8.load_weights(f'weights/RealESRGAN_x{model_scale8}.pth')"
      ]
    },
    {
      "cell_type": "markdown",
      "source": [
        "#Upload the Video here:"
      ],
      "metadata": {
        "id": "DumqhAbEfVdZ"
      }
    },
    {
      "cell_type": "code",
      "execution_count": null,
      "metadata": {
        "colab": {
          "base_uri": "https://localhost:8080/",
          "height": 92
        },
        "id": "8Q6iHqBkTzB7",
        "outputId": "5bbc61f6-c8a3-4f4e-a917-bc813d0f57cf"
      },
      "outputs": [
        {
          "data": {
            "text/html": [
              "\n",
              "     <input type=\"file\" id=\"files-4ced0cdc-01e5-4646-aa68-6102e2587396\" name=\"files[]\" multiple disabled\n",
              "        style=\"border:none\" />\n",
              "     <output id=\"result-4ced0cdc-01e5-4646-aa68-6102e2587396\">\n",
              "      Upload widget is only available when the cell has been executed in the\n",
              "      current browser session. Please rerun this cell to enable.\n",
              "      </output>\n",
              "      <script>// Copyright 2017 Google LLC\n",
              "//\n",
              "// Licensed under the Apache License, Version 2.0 (the \"License\");\n",
              "// you may not use this file except in compliance with the License.\n",
              "// You may obtain a copy of the License at\n",
              "//\n",
              "//      http://www.apache.org/licenses/LICENSE-2.0\n",
              "//\n",
              "// Unless required by applicable law or agreed to in writing, software\n",
              "// distributed under the License is distributed on an \"AS IS\" BASIS,\n",
              "// WITHOUT WARRANTIES OR CONDITIONS OF ANY KIND, either express or implied.\n",
              "// See the License for the specific language governing permissions and\n",
              "// limitations under the License.\n",
              "\n",
              "/**\n",
              " * @fileoverview Helpers for google.colab Python module.\n",
              " */\n",
              "(function(scope) {\n",
              "function span(text, styleAttributes = {}) {\n",
              "  const element = document.createElement('span');\n",
              "  element.textContent = text;\n",
              "  for (const key of Object.keys(styleAttributes)) {\n",
              "    element.style[key] = styleAttributes[key];\n",
              "  }\n",
              "  return element;\n",
              "}\n",
              "\n",
              "// Max number of bytes which will be uploaded at a time.\n",
              "const MAX_PAYLOAD_SIZE = 100 * 1024;\n",
              "\n",
              "function _uploadFiles(inputId, outputId) {\n",
              "  const steps = uploadFilesStep(inputId, outputId);\n",
              "  const outputElement = document.getElementById(outputId);\n",
              "  // Cache steps on the outputElement to make it available for the next call\n",
              "  // to uploadFilesContinue from Python.\n",
              "  outputElement.steps = steps;\n",
              "\n",
              "  return _uploadFilesContinue(outputId);\n",
              "}\n",
              "\n",
              "// This is roughly an async generator (not supported in the browser yet),\n",
              "// where there are multiple asynchronous steps and the Python side is going\n",
              "// to poll for completion of each step.\n",
              "// This uses a Promise to block the python side on completion of each step,\n",
              "// then passes the result of the previous step as the input to the next step.\n",
              "function _uploadFilesContinue(outputId) {\n",
              "  const outputElement = document.getElementById(outputId);\n",
              "  const steps = outputElement.steps;\n",
              "\n",
              "  const next = steps.next(outputElement.lastPromiseValue);\n",
              "  return Promise.resolve(next.value.promise).then((value) => {\n",
              "    // Cache the last promise value to make it available to the next\n",
              "    // step of the generator.\n",
              "    outputElement.lastPromiseValue = value;\n",
              "    return next.value.response;\n",
              "  });\n",
              "}\n",
              "\n",
              "/**\n",
              " * Generator function which is called between each async step of the upload\n",
              " * process.\n",
              " * @param {string} inputId Element ID of the input file picker element.\n",
              " * @param {string} outputId Element ID of the output display.\n",
              " * @return {!Iterable<!Object>} Iterable of next steps.\n",
              " */\n",
              "function* uploadFilesStep(inputId, outputId) {\n",
              "  const inputElement = document.getElementById(inputId);\n",
              "  inputElement.disabled = false;\n",
              "\n",
              "  const outputElement = document.getElementById(outputId);\n",
              "  outputElement.innerHTML = '';\n",
              "\n",
              "  const pickedPromise = new Promise((resolve) => {\n",
              "    inputElement.addEventListener('change', (e) => {\n",
              "      resolve(e.target.files);\n",
              "    });\n",
              "  });\n",
              "\n",
              "  const cancel = document.createElement('button');\n",
              "  inputElement.parentElement.appendChild(cancel);\n",
              "  cancel.textContent = 'Cancel upload';\n",
              "  const cancelPromise = new Promise((resolve) => {\n",
              "    cancel.onclick = () => {\n",
              "      resolve(null);\n",
              "    };\n",
              "  });\n",
              "\n",
              "  // Wait for the user to pick the files.\n",
              "  const files = yield {\n",
              "    promise: Promise.race([pickedPromise, cancelPromise]),\n",
              "    response: {\n",
              "      action: 'starting',\n",
              "    }\n",
              "  };\n",
              "\n",
              "  cancel.remove();\n",
              "\n",
              "  // Disable the input element since further picks are not allowed.\n",
              "  inputElement.disabled = true;\n",
              "\n",
              "  if (!files) {\n",
              "    return {\n",
              "      response: {\n",
              "        action: 'complete',\n",
              "      }\n",
              "    };\n",
              "  }\n",
              "\n",
              "  for (const file of files) {\n",
              "    const li = document.createElement('li');\n",
              "    li.append(span(file.name, {fontWeight: 'bold'}));\n",
              "    li.append(span(\n",
              "        `(${file.type || 'n/a'}) - ${file.size} bytes, ` +\n",
              "        `last modified: ${\n",
              "            file.lastModifiedDate ? file.lastModifiedDate.toLocaleDateString() :\n",
              "                                    'n/a'} - `));\n",
              "    const percent = span('0% done');\n",
              "    li.appendChild(percent);\n",
              "\n",
              "    outputElement.appendChild(li);\n",
              "\n",
              "    const fileDataPromise = new Promise((resolve) => {\n",
              "      const reader = new FileReader();\n",
              "      reader.onload = (e) => {\n",
              "        resolve(e.target.result);\n",
              "      };\n",
              "      reader.readAsArrayBuffer(file);\n",
              "    });\n",
              "    // Wait for the data to be ready.\n",
              "    let fileData = yield {\n",
              "      promise: fileDataPromise,\n",
              "      response: {\n",
              "        action: 'continue',\n",
              "      }\n",
              "    };\n",
              "\n",
              "    // Use a chunked sending to avoid message size limits. See b/62115660.\n",
              "    let position = 0;\n",
              "    do {\n",
              "      const length = Math.min(fileData.byteLength - position, MAX_PAYLOAD_SIZE);\n",
              "      const chunk = new Uint8Array(fileData, position, length);\n",
              "      position += length;\n",
              "\n",
              "      const base64 = btoa(String.fromCharCode.apply(null, chunk));\n",
              "      yield {\n",
              "        response: {\n",
              "          action: 'append',\n",
              "          file: file.name,\n",
              "          data: base64,\n",
              "        },\n",
              "      };\n",
              "\n",
              "      let percentDone = fileData.byteLength === 0 ?\n",
              "          100 :\n",
              "          Math.round((position / fileData.byteLength) * 100);\n",
              "      percent.textContent = `${percentDone}% done`;\n",
              "\n",
              "    } while (position < fileData.byteLength);\n",
              "  }\n",
              "\n",
              "  // All done.\n",
              "  yield {\n",
              "    response: {\n",
              "      action: 'complete',\n",
              "    }\n",
              "  };\n",
              "}\n",
              "\n",
              "scope.google = scope.google || {};\n",
              "scope.google.colab = scope.google.colab || {};\n",
              "scope.google.colab._files = {\n",
              "  _uploadFiles,\n",
              "  _uploadFilesContinue,\n",
              "};\n",
              "})(self);\n",
              "</script> "
            ],
            "text/plain": [
              "<IPython.core.display.HTML object>"
            ]
          },
          "metadata": {},
          "output_type": "display_data"
        },
        {
          "name": "stdout",
          "output_type": "stream",
          "text": [
            "Saving WhatsApp Video 2023-09-30 at 12.40.20 (1).mp4 to WhatsApp Video 2023-09-30 at 12.40.20 (1).mp4\n",
            "move WhatsApp Video 2023-09-30 at 12.40.20 (1).mp4 to upload/WhatsApp Video 2023-09-30 at 12.40.20 (1).mp4\n"
          ]
        }
      ],
      "source": [
        "uploadFolder = 'upload'\n",
        "\n",
        "if os.path.isdir(uploadFolder):\n",
        "    shutil.rmtree(uploadFolder)\n",
        "\n",
        "os.mkdir(uploadFolder)\n",
        "\n",
        "# Upload video\n",
        "uploaded = files.upload()\n",
        "for filename in uploaded.keys():\n",
        "  destinationPath = os.path.join(uploadFolder, filename)\n",
        "  print(f'move {filename} to {destinationPath}')\n",
        "  shutil.move(filename, destinationPath)"
      ]
    },
    {
      "cell_type": "code",
      "execution_count": null,
      "metadata": {
        "colab": {
          "base_uri": "https://localhost:8080/"
        },
        "id": "u-hNhP3t_it4",
        "outputId": "10ea9407-c12f-4290-acea-6f2530fb6b3f"
      },
      "outputs": [
        {
          "name": "stdout",
          "output_type": "stream",
          "text": [
            "Frames per second = 29.97002997002997\n",
            "Video duration: 0:00:06\n",
            "Total number of frames:  172\n"
          ]
        }
      ],
      "source": [
        "data = cv2.VideoCapture('/content/upload/' + os.listdir('/content/upload')[0])\n",
        "\n",
        "frames = data.get(cv2.CAP_PROP_FRAME_COUNT)\n",
        "\n",
        "# Fetching the number of frames per second\n",
        "fps = data.get(cv2.CAP_PROP_FPS)\n",
        "print('Frames per second =',fps)\n",
        "\n",
        "# Calculating the duration of the video\n",
        "seconds = round(frames / fps)\n",
        "videoTime = datetime.timedelta(seconds=seconds)\n",
        "print(f\"Video duration: {videoTime}\")\n",
        "\n",
        "# Counting the total number of frames\n",
        "totalFrames = int(data.get(cv2.CAP_PROP_FRAME_COUNT))\n",
        "print(\"Total number of frames: \", totalFrames)\n",
        "\n",
        "# Creating folder to save the frame images\n",
        "resultFolder = 'results'\n",
        "os.makedirs(resultFolder, exist_ok=True)"
      ]
    },
    {
      "cell_type": "code",
      "execution_count": null,
      "metadata": {
        "id": "b5gG7-lwMjOW"
      },
      "outputs": [],
      "source": [
        "def isBlurry(image):\n",
        "    # Convert the image to grayscale\n",
        "    gray = cv2.cvtColor(image, cv2.COLOR_BGR2GRAY)\n",
        "\n",
        "    # Calculate the Laplacian variance\n",
        "    laplacianVariance = cv2.Laplacian(gray, cv2.CV_64F).var()\n",
        "\n",
        "    # If the variance is below the threshold, the image is considered blurry\n",
        "    return laplacianVariance\n",
        "\n",
        "def findThreshold(video):\n",
        "  # Setting the Laplacian Threshold to 50 (after several hit and trials)\n",
        "  laplacianThreshold = 50\n",
        "  i = 0\n",
        "  flag = False\n",
        "  while True:\n",
        "      ret, frame = video.read()\n",
        "      i += 1\n",
        "      if not ret:\n",
        "          break\n",
        "\n",
        "      if isBlurry(frame) < laplacianThreshold:\n",
        "          print(\"Pixelated Frame Detected!\")\n",
        "          frameNumber = i\n",
        "          flag = True\n",
        "          return frameNumber\n",
        "      else:\n",
        "          continue\n",
        "  if not flag:\n",
        "    return 1"
      ]
    },
    {
      "cell_type": "code",
      "execution_count": null,
      "metadata": {
        "colab": {
          "background_save": true,
          "base_uri": "https://localhost:8080/"
        },
        "id": "1bCH9X0RdtMF",
        "outputId": "4ddc52b1-75b1-444b-f8a9-74e7ab4018ec"
      },
      "outputs": [
        {
          "name": "stdout",
          "output_type": "stream",
          "text": [
            "Threshold Frame 1:  1\n",
            "Threshold Frame 2:  58\n",
            "Threshold Frame 3:  115\n"
          ]
        }
      ],
      "source": [
        "thresholdFrame1 = findThreshold(data)\n",
        "difference = totalFrames - thresholdFrame1\n",
        "division = int(difference / 3)\n",
        "thresholdFrame2 = thresholdFrame1 + division\n",
        "thresholdFrame3 = thresholdFrame2 + division\n",
        "\n",
        "print(\"Threshold Frame 1: \", thresholdFrame1)\n",
        "print(\"Threshold Frame 2: \", thresholdFrame2)\n",
        "print(\"Threshold Frame 3: \", thresholdFrame3)\n",
        "\n",
        "# Saving the initial non-blurred frames without enhancement\n",
        "for i in range(0, thresholdFrame1):\n",
        "  data.set(cv2.CAP_PROP_POS_FRAMES, i)\n",
        "  ret, frame = data.read()\n",
        "  result_image_path = os.path.join('results/frame_' + str(i) + '.jpg')\n",
        "  cv2.imwrite(result_image_path, frame)\n",
        "\n",
        "# Upscaling the first set of blurry frames by 2x and saving them\n",
        "for i in range(thresholdFrame1, thresholdFrame2):\n",
        "  data.set(cv2.CAP_PROP_POS_FRAMES, i)\n",
        "  ret, frame = data.read()\n",
        "  sr_image = model2.predict(np.array(frame))\n",
        "  result_image_path = os.path.join('results/frame_' + str(i) + '.jpg')\n",
        "  sr_image.save(result_image_path)\n",
        "\n",
        "# Upscaling the second set of blurry frames by 4x and saving them\n",
        "for i in range(thresholdFrame2, thresholdFrame3):\n",
        "  data.set(cv2.CAP_PROP_POS_FRAMES, i)\n",
        "  ret, frame = data.read()\n",
        "  sr_image = model4.predict(np.array(frame))\n",
        "  result_image_path = os.path.join('results/frame_' + str(i) + '.jpg')\n",
        "  sr_image.save(result_image_path)\n",
        "\n",
        "# Upscaling the third set of blurry frames by 8x and saving them\n",
        "for i in range(thresholdFrame3, totalFrames):\n",
        "  data.set(cv2.CAP_PROP_POS_FRAMES, i)\n",
        "  ret, frame = data.read()\n",
        "  sr_image = model8.predict(np.array(frame))\n",
        "  result_image_path = os.path.join('results/frame_' + str(i) + '.jpg')\n",
        "  sr_image.save(result_image_path)"
      ]
    },
    {
      "cell_type": "code",
      "execution_count": null,
      "metadata": {
        "id": "FXyFFGV5YR-O"
      },
      "outputs": [],
      "source": [
        "imgArray = []\n",
        "\n",
        "# Fetching the size of an image frame in order to have a common size for the complete video\n",
        "sample = cv2.imread(os.path.join('results/frame_' + str(thresholdFrame1 + 1) + '.jpg'))\n",
        "height, width, channels = sample.shape\n",
        "\n",
        "for i in range(0, totalFrames):\n",
        "  # Reading image frames\n",
        "  img = cv2.imread(os.path.join('results/frame_' + str(i) + '.jpg'))\n",
        "\n",
        "  # Converting the enhanced frames to RGB\n",
        "  if i > thresholdFrame1 - 1:\n",
        "    img = cv2.cvtColor(img, cv2.COLOR_BGR2RGB)\n",
        "\n",
        "  img = cv2.resize(img, (width, height))\n",
        "  size = (width, height)\n",
        "  imgArray.append(img)\n",
        "\n",
        "# Setting 4-character-code\n",
        "fourcc = cv2.VideoWriter_fourcc(*'DIVX')\n",
        "\n",
        "out = cv2.VideoWriter('OutputVideo.mp4', fourcc, int(fps), size)\n",
        "\n",
        "# Writing the frames into the output video file\n",
        "for i in range(len(imgArray)):\n",
        "  out.write(imgArray[i])\n",
        "out.release()"
      ]
    }
  ],
  "metadata": {
    "colab": {
      "provenance": []
    },
    "kernelspec": {
      "display_name": "Python 3",
      "name": "python3"
    },
    "language_info": {
      "name": "python"
    }
  },
  "nbformat": 4,
  "nbformat_minor": 0
}